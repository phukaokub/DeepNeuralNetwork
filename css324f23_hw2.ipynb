{
  "cells": [
    {
      "cell_type": "markdown",
      "metadata": {
        "id": "view-in-github",
        "colab_type": "text"
      },
      "source": [
        "<a href=\"https://colab.research.google.com/gist/phukaokub/a21c419e6a40b6f097bfdfbc589b70ce/css324f23_hw2.ipynb\" target=\"_parent\"><img src=\"https://colab.research.google.com/assets/colab-badge.svg\" alt=\"Open In Colab\"/></a>"
      ]
    },
    {
      "cell_type": "markdown",
      "metadata": {
        "id": "1co9QUId36Eo"
      },
      "source": [
        "# CSS324 Homework Assignment 2\n",
        "\n",
        "CIFAR10 is a small image classification dataset. Its objective is to classification an 32x32 color image into 10 classes.\n",
        "\n",
        "See https://www.cs.toronto.edu/~kriz/cifar.html and https://keras.io/api/datasets/cifar10/ for more details."
      ]
    },
    {
      "cell_type": "markdown",
      "metadata": {
        "id": "X3Jd_5NC3DPp"
      },
      "source": [
        "## Group Members\n",
        "1. Teerawat Chuaphanngam 6422780054\n"
      ]
    },
    {
      "cell_type": "code",
      "execution_count": null,
      "metadata": {
        "id": "3zXtrgRH9oK5"
      },
      "outputs": [],
      "source": [
        "import tensorflow as tf\n",
        "import matplotlib.pyplot as plt\n",
        "import numpy as np"
      ]
    },
    {
      "cell_type": "code",
      "execution_count": null,
      "metadata": {
        "id": "ZMSl6MYp33eW",
        "colab": {
          "base_uri": "https://localhost:8080/"
        },
        "outputId": "3c31f46e-3544-4086-b001-aa8568b52549"
      },
      "outputs": [
        {
          "output_type": "stream",
          "name": "stdout",
          "text": [
            "Downloading data from https://www.cs.toronto.edu/~kriz/cifar-10-python.tar.gz\n",
            "170498071/170498071 [==============================] - 4s 0us/step\n"
          ]
        }
      ],
      "source": [
        "# Load CIFAR10 dataset\n",
        "(x, y), (x_test, y_test) = tf.keras.datasets.cifar10.load_data()\n",
        "y, y_test = y.flatten(), y_test.flatten()\n",
        "x = x / 255\n",
        "x_test = x_test / 255"
      ]
    },
    {
      "cell_type": "code",
      "execution_count": null,
      "metadata": {
        "colab": {
          "base_uri": "https://localhost:8080/",
          "height": 448
        },
        "id": "Vwoz3JDK98Jy",
        "outputId": "5cebfdb0-e801-4c8f-ce56-685756277c9b"
      },
      "outputs": [
        {
          "output_type": "display_data",
          "data": {
            "text/plain": [
              "<Figure size 640x480 with 1 Axes>"
            ],
            "image/png": "[encoded data removed]"
          },
          "metadata": {}
        },
        {
          "output_type": "stream",
          "name": "stdout",
          "text": [
            "Class= 7\n"
          ]
        }
      ],
      "source": [
        "# Plot a training example\n",
        "plt.imshow(x[11, :, :, :])\n",
        "plt.show()\n",
        "print(f\"Class= {y[11]}\")        # 7 = horse"
      ]
    },
    {
      "cell_type": "code",
      "execution_count": null,
      "metadata": {
        "colab": {
          "base_uri": "https://localhost:8080/"
        },
        "id": "IP3HhtDn3DPs",
        "outputId": "c912ba14-6d0f-4f05-bf17-9a86322f4f2c"
      },
      "outputs": [
        {
          "output_type": "stream",
          "name": "stdout",
          "text": [
            "Shape of the datasets\n",
            "Training set   = (40000, 32, 32, 3) (40000,)\n",
            "Validation set = (10000, 32, 32, 3) (10000,)\n",
            "Test set       = (10000, 32, 32, 3) (10000,)\n"
          ]
        }
      ],
      "source": [
        "# Split the training set\n",
        "from sklearn.model_selection import train_test_split\n",
        "\n",
        "X_train, X_valid, y_train, y_valid = train_test_split(x, y, test_size=0.2, random_state=11)\n",
        "X_test = x_test\n",
        "\n",
        "print(\"Shape of the datasets\")\n",
        "print(\"Training set   =\", X_train.shape, y_train.shape)\n",
        "print(\"Validation set =\", X_valid.shape, y_valid.shape)\n",
        "print(\"Test set       =\", X_test.shape, y_test.shape)"
      ]
    },
    {
      "cell_type": "code",
      "execution_count": null,
      "metadata": {
        "id": "BgTcvIzY3DPt"
      },
      "outputs": [],
      "source": [
        "# Use one-hot encoding for y\n",
        "Y_train = tf.one_hot(y_train, 10)\n",
        "Y_valid = tf.one_hot(y_valid, 10)\n",
        "Y_test = tf.one_hot(y_test, 10)"
      ]
    },
    {
      "cell_type": "markdown",
      "metadata": {
        "id": "lFt4OqeP_Buc"
      },
      "source": [
        "## Task\n",
        "\n",
        "Construct a deep neural network to classify images in the CIFAR10 dataset. You can choose the numbers of hidden nodes, appropriate activation functions, regularizers, or the structure of the network.\n",
        "\n",
        "After the training process, print the training, validation, and test accuracies, as well as plot the training loss and validation loss.\n",
        "\n",
        "**Contraints**\n",
        " - The number of weight layers must be less than or equal to 6.\n",
        " - The number of training epochs must be set to 50.\n",
        " - Your model must achieve the test accuracy of at least 60%.\n",
        "\n",
        "**Rules**\n",
        " - This is a group work. Each group can compose of up to three members."
      ]
    },
    {
      "cell_type": "code",
      "execution_count": null,
      "metadata": {
        "id": "kpuD33bU__mt"
      },
      "outputs": [],
      "source": [
        "# Your implementation for Question 1\n",
        "from tensorflow.keras import Sequential\n",
        "from tensorflow.keras.layers import Input, Dense, Flatten\n",
        "\n",
        "model = Sequential([\n",
        "    Input(shape=(32, 32, 3)),\n",
        "    Flatten(),\n",
        "    Dense(500, activation='relu'),\n",
        "    Dense(10, activation='softmax')\n",
        "])\n",
        "\n",
        "model.summary()\n",
        "\n",
        "model.compile(optimizer=tf.keras.optimizers.Adam(3e-4), loss='categorical_crossentropy', metrics=['accuracy'])\n",
        "\n",
        "hist1 = model.fit(X_train, Y_train, batch_size=4096, validation_data=(X_valid, Y_valid), epochs=50)"
      ]
    },
    {
      "cell_type": "code",
      "source": [
        "import tensorflow as tf\n",
        "from tensorflow.keras import Sequential\n",
        "from tensorflow.keras.layers import Conv2D, MaxPooling2D, Flatten, Dense, Dropout\n",
        "from tensorflow.keras.regularizers import l2\n",
        "import matplotlib.pyplot as plt\n",
        "import numpy as np\n",
        "\n",
        "# Assuming a function load_cifar10_data() for data loading\n",
        "\n",
        "model = Sequential([\n",
        "    Conv2D(32, (3, 3), activation='relu', input_shape=(32, 32, 3)),\n",
        "    MaxPooling2D((2, 2)),\n",
        "    Conv2D(64, (3, 3), activation='relu'),\n",
        "    MaxPooling2D((2, 2)),\n",
        "    Flatten(),\n",
        "    Dense(512, activation='relu', kernel_regularizer=l2(0.001)),\n",
        "    Dropout(0.5),\n",
        "    Dense(10, activation='softmax')\n",
        "])\n",
        "\n",
        "model.summary()\n",
        "\n",
        "model.compile(optimizer='adam', loss='categorical_crossentropy', metrics=['accuracy'])\n",
        "\n",
        "history = model.fit(X_train, Y_train, batch_size=4096, validation_data=(X_valid, Y_valid), epochs=50)\n"
      ],
      "metadata": {
        "colab": {
          "base_uri": "https://localhost:8080/"
        },
        "id": "swbBM9_NQ0SC",
        "outputId": "03e9a995-7aaf-4e4d-d4b2-55d3807fa9b5"
      },
      "execution_count": null,
      "outputs": [
        {
          "output_type": "stream",
          "name": "stdout",
          "text": [
            "Model: \"sequential_1\"\n",
            "_________________________________________________________________\n",
            " Layer (type)                Output Shape              Param #   \n",
            "=================================================================\n",
            " conv2d_2 (Conv2D)           (None, 30, 30, 32)        896       \n",
            "                                                                 \n",
            " max_pooling2d_2 (MaxPoolin  (None, 15, 15, 32)        0         \n",
            " g2D)                                                            \n",
            "                                                                 \n",
            " conv2d_3 (Conv2D)           (None, 13, 13, 64)        18496     \n",
            "                                                                 \n",
            " max_pooling2d_3 (MaxPoolin  (None, 6, 6, 64)          0         \n",
            " g2D)                                                            \n",
            "                                                                 \n",
            " flatten_1 (Flatten)         (None, 2304)              0         \n",
            "                                                                 \n",
            " dense_2 (Dense)             (None, 512)               1180160   \n",
            "                                                                 \n",
            " dropout_1 (Dropout)         (None, 512)               0         \n",
            "                                                                 \n",
            " dense_3 (Dense)             (None, 10)                5130      \n",
            "                                                                 \n",
            "=================================================================\n",
            "Total params: 1204682 (4.60 MB)\n",
            "Trainable params: 1204682 (4.60 MB)\n",
            "Non-trainable params: 0 (0.00 Byte)\n",
            "_________________________________________________________________\n",
            "Epoch 1/50\n",
            "10/10 [==============================] - 16s 272ms/step - loss: 2.9233 - accuracy: 0.1936 - val_loss: 2.5662 - val_accuracy: 0.3114\n",
            "Epoch 2/50\n",
            "10/10 [==============================] - 1s 102ms/step - loss: 2.4234 - accuracy: 0.2990 - val_loss: 2.2261 - val_accuracy: 0.3588\n",
            "Epoch 3/50\n",
            "10/10 [==============================] - 1s 101ms/step - loss: 2.1462 - accuracy: 0.3604 - val_loss: 2.0041 - val_accuracy: 0.4075\n",
            "Epoch 4/50\n",
            "10/10 [==============================] - 1s 103ms/step - loss: 1.9585 - accuracy: 0.4018 - val_loss: 1.8908 - val_accuracy: 0.4305\n",
            "Epoch 5/50\n",
            "10/10 [==============================] - 1s 131ms/step - loss: 1.8374 - accuracy: 0.4315 - val_loss: 1.7579 - val_accuracy: 0.4597\n",
            "Epoch 6/50\n",
            "10/10 [==============================] - 1s 130ms/step - loss: 1.7449 - accuracy: 0.4554 - val_loss: 1.6869 - val_accuracy: 0.4809\n",
            "Epoch 7/50\n",
            "10/10 [==============================] - 1s 133ms/step - loss: 1.6749 - accuracy: 0.4719 - val_loss: 1.6536 - val_accuracy: 0.4904\n",
            "Epoch 8/50\n",
            "10/10 [==============================] - 1s 100ms/step - loss: 1.6169 - accuracy: 0.4926 - val_loss: 1.5731 - val_accuracy: 0.5105\n",
            "Epoch 9/50\n",
            "10/10 [==============================] - 1s 100ms/step - loss: 1.5629 - accuracy: 0.5043 - val_loss: 1.5264 - val_accuracy: 0.5223\n",
            "Epoch 10/50\n",
            "10/10 [==============================] - 1s 99ms/step - loss: 1.5310 - accuracy: 0.5186 - val_loss: 1.5023 - val_accuracy: 0.5328\n",
            "Epoch 11/50\n",
            "10/10 [==============================] - 1s 99ms/step - loss: 1.4950 - accuracy: 0.5258 - val_loss: 1.4651 - val_accuracy: 0.5344\n",
            "Epoch 12/50\n",
            "10/10 [==============================] - 1s 103ms/step - loss: 1.4585 - accuracy: 0.5390 - val_loss: 1.4369 - val_accuracy: 0.5476\n",
            "Epoch 13/50\n",
            "10/10 [==============================] - 1s 100ms/step - loss: 1.4229 - accuracy: 0.5485 - val_loss: 1.4085 - val_accuracy: 0.5521\n",
            "Epoch 14/50\n",
            "10/10 [==============================] - 1s 102ms/step - loss: 1.4101 - accuracy: 0.5505 - val_loss: 1.4015 - val_accuracy: 0.5558\n",
            "Epoch 15/50\n",
            "10/10 [==============================] - 1s 102ms/step - loss: 1.3914 - accuracy: 0.5560 - val_loss: 1.4127 - val_accuracy: 0.5505\n",
            "Epoch 16/50\n",
            "10/10 [==============================] - 1s 101ms/step - loss: 1.3825 - accuracy: 0.5632 - val_loss: 1.3662 - val_accuracy: 0.5707\n",
            "Epoch 17/50\n",
            "10/10 [==============================] - 1s 100ms/step - loss: 1.3484 - accuracy: 0.5728 - val_loss: 1.3401 - val_accuracy: 0.5774\n",
            "Epoch 18/50\n",
            "10/10 [==============================] - 1s 136ms/step - loss: 1.3206 - accuracy: 0.5818 - val_loss: 1.3149 - val_accuracy: 0.5826\n",
            "Epoch 19/50\n",
            "10/10 [==============================] - 1s 116ms/step - loss: 1.3053 - accuracy: 0.5871 - val_loss: 1.3119 - val_accuracy: 0.5818\n",
            "Epoch 20/50\n",
            "10/10 [==============================] - 1s 122ms/step - loss: 1.2925 - accuracy: 0.5900 - val_loss: 1.2943 - val_accuracy: 0.5888\n",
            "Epoch 21/50\n",
            "10/10 [==============================] - 1s 102ms/step - loss: 1.2801 - accuracy: 0.5915 - val_loss: 1.2785 - val_accuracy: 0.5987\n",
            "Epoch 22/50\n",
            "10/10 [==============================] - 1s 99ms/step - loss: 1.2624 - accuracy: 0.6012 - val_loss: 1.2758 - val_accuracy: 0.5960\n",
            "Epoch 23/50\n",
            "10/10 [==============================] - 1s 100ms/step - loss: 1.2470 - accuracy: 0.6043 - val_loss: 1.2703 - val_accuracy: 0.5906\n",
            "Epoch 24/50\n",
            "10/10 [==============================] - 1s 100ms/step - loss: 1.2351 - accuracy: 0.6104 - val_loss: 1.2497 - val_accuracy: 0.6037\n",
            "Epoch 25/50\n",
            "10/10 [==============================] - 1s 102ms/step - loss: 1.2296 - accuracy: 0.6116 - val_loss: 1.2370 - val_accuracy: 0.6090\n",
            "Epoch 26/50\n",
            "10/10 [==============================] - 1s 105ms/step - loss: 1.2085 - accuracy: 0.6224 - val_loss: 1.2216 - val_accuracy: 0.6130\n",
            "Epoch 27/50\n",
            "10/10 [==============================] - 1s 100ms/step - loss: 1.2000 - accuracy: 0.6228 - val_loss: 1.2412 - val_accuracy: 0.6072\n",
            "Epoch 28/50\n",
            "10/10 [==============================] - 1s 100ms/step - loss: 1.1919 - accuracy: 0.6245 - val_loss: 1.2188 - val_accuracy: 0.6213\n",
            "Epoch 29/50\n",
            "10/10 [==============================] - 1s 101ms/step - loss: 1.1807 - accuracy: 0.6316 - val_loss: 1.2516 - val_accuracy: 0.5997\n",
            "Epoch 30/50\n",
            "10/10 [==============================] - 1s 101ms/step - loss: 1.1965 - accuracy: 0.6251 - val_loss: 1.1951 - val_accuracy: 0.6279\n",
            "Epoch 31/50\n",
            "10/10 [==============================] - 1s 112ms/step - loss: 1.1658 - accuracy: 0.6331 - val_loss: 1.1994 - val_accuracy: 0.6211\n",
            "Epoch 32/50\n",
            "10/10 [==============================] - 1s 116ms/step - loss: 1.1482 - accuracy: 0.6428 - val_loss: 1.1958 - val_accuracy: 0.6211\n",
            "Epoch 33/50\n",
            "10/10 [==============================] - 1s 130ms/step - loss: 1.1477 - accuracy: 0.6436 - val_loss: 1.1804 - val_accuracy: 0.6272\n",
            "Epoch 34/50\n",
            "10/10 [==============================] - 1s 106ms/step - loss: 1.1290 - accuracy: 0.6482 - val_loss: 1.1803 - val_accuracy: 0.6273\n",
            "Epoch 35/50\n",
            "10/10 [==============================] - 1s 101ms/step - loss: 1.1211 - accuracy: 0.6498 - val_loss: 1.1822 - val_accuracy: 0.6277\n",
            "Epoch 36/50\n",
            "10/10 [==============================] - 1s 101ms/step - loss: 1.1211 - accuracy: 0.6513 - val_loss: 1.1687 - val_accuracy: 0.6347\n",
            "Epoch 37/50\n",
            "10/10 [==============================] - 1s 103ms/step - loss: 1.1084 - accuracy: 0.6544 - val_loss: 1.1620 - val_accuracy: 0.6360\n",
            "Epoch 38/50\n",
            "10/10 [==============================] - 1s 103ms/step - loss: 1.0993 - accuracy: 0.6601 - val_loss: 1.1718 - val_accuracy: 0.6393\n",
            "Epoch 39/50\n",
            "10/10 [==============================] - 1s 101ms/step - loss: 1.0961 - accuracy: 0.6637 - val_loss: 1.1456 - val_accuracy: 0.6427\n",
            "Epoch 40/50\n",
            "10/10 [==============================] - 1s 100ms/step - loss: 1.0843 - accuracy: 0.6656 - val_loss: 1.1386 - val_accuracy: 0.6469\n",
            "Epoch 41/50\n",
            "10/10 [==============================] - 1s 103ms/step - loss: 1.0757 - accuracy: 0.6684 - val_loss: 1.1377 - val_accuracy: 0.6492\n",
            "Epoch 42/50\n",
            "10/10 [==============================] - 1s 101ms/step - loss: 1.0756 - accuracy: 0.6663 - val_loss: 1.1317 - val_accuracy: 0.6478\n",
            "Epoch 43/50\n",
            "10/10 [==============================] - 1s 103ms/step - loss: 1.0780 - accuracy: 0.6662 - val_loss: 1.1564 - val_accuracy: 0.6346\n",
            "Epoch 44/50\n",
            "10/10 [==============================] - 1s 104ms/step - loss: 1.0621 - accuracy: 0.6706 - val_loss: 1.1318 - val_accuracy: 0.6500\n",
            "Epoch 45/50\n",
            "10/10 [==============================] - 1s 116ms/step - loss: 1.0580 - accuracy: 0.6745 - val_loss: 1.1514 - val_accuracy: 0.6398\n",
            "Epoch 46/50\n",
            "10/10 [==============================] - 1s 118ms/step - loss: 1.0546 - accuracy: 0.6737 - val_loss: 1.1388 - val_accuracy: 0.6464\n",
            "Epoch 47/50\n",
            "10/10 [==============================] - 1s 134ms/step - loss: 1.0545 - accuracy: 0.6773 - val_loss: 1.1179 - val_accuracy: 0.6539\n",
            "Epoch 48/50\n",
            "10/10 [==============================] - 1s 101ms/step - loss: 1.0443 - accuracy: 0.6771 - val_loss: 1.1218 - val_accuracy: 0.6532\n",
            "Epoch 49/50\n",
            "10/10 [==============================] - 1s 101ms/step - loss: 1.0278 - accuracy: 0.6874 - val_loss: 1.1205 - val_accuracy: 0.6528\n",
            "Epoch 50/50\n",
            "10/10 [==============================] - 1s 99ms/step - loss: 1.0197 - accuracy: 0.6888 - val_loss: 1.1070 - val_accuracy: 0.6563\n"
          ]
        }
      ]
    },
    {
      "cell_type": "code",
      "execution_count": null,
      "metadata": {
        "id": "3Amk91Chjzqz",
        "colab": {
          "base_uri": "https://localhost:8080/",
          "height": 452
        },
        "outputId": "13106fc2-8844-4ce5-aee7-4c701f125c22"
      },
      "outputs": [
        {
          "output_type": "display_data",
          "data": {
            "text/plain": [
              "<Figure size 640x480 with 1 Axes>"
            ],
            "image/png": "[encoded data removed]"
          },
          "metadata": {}
        }
      ],
      "source": [
        "# Plot the training loss and validation loss\n",
        "N = len(history.history['loss'])\n",
        "plt.plot(np.arange(N), history.history['loss'])\n",
        "plt.plot(np.arange(N), history.history['val_loss'])\n",
        "plt.ylabel('loss')\n",
        "plt.xlabel('epoch')\n",
        "plt.legend(['training_loss', 'val_loss'], loc='upper right')\n",
        "plt.show()"
      ]
    },
    {
      "cell_type": "code",
      "execution_count": null,
      "metadata": {
        "colab": {
          "base_uri": "https://localhost:8080/"
        },
        "id": "Ixdv4BBh3DPv",
        "outputId": "8796924a-aa1a-4dd7-d9d6-1406916446d8"
      },
      "outputs": [
        {
          "output_type": "stream",
          "name": "stdout",
          "text": [
            "Training accuracy   = 0.7208\n",
            "Validation accuracy = 0.6563\n",
            "Test accuracy       = 0.6634\n"
          ]
        }
      ],
      "source": [
        "res = model.evaluate(X_train, Y_train, verbose=0, batch_size=2048)\n",
        "print(f\"Training accuracy   = {res[1]:.4f}\")\n",
        "res = model.evaluate(X_valid, Y_valid, verbose=0, batch_size=2048)\n",
        "print(f\"Validation accuracy = {res[1]:.4f}\")\n",
        "res = model.evaluate(X_test, Y_test, verbose=0, batch_size=2048)\n",
        "print(f\"Test accuracy       = {res[1]:.4f}\")"
      ]
    }
  ],
  "metadata": {
    "accelerator": "GPU",
    "colab": {
      "provenance": [],
      "include_colab_link": true
    },
    "kernelspec": {
      "display_name": "Python 3 (ipykernel)",
      "language": "python",
      "name": "python3"
    },
    "language_info": {
      "codemirror_mode": {
        "name": "ipython",
        "version": 3
      },
      "file_extension": ".py",
      "mimetype": "text/x-python",
      "name": "python",
      "nbconvert_exporter": "python",
      "pygments_lexer": "ipython3",
      "version": "3.10.12"
    }
  },
  "nbformat": 4,
  "nbformat_minor": 0
}